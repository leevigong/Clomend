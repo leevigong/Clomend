{
 "cells": [
  {
   "cell_type": "code",
   "execution_count": 16,
   "id": "30407c08",
   "metadata": {},
   "outputs": [],
   "source": [
    "from selenium import webdriver\n",
    "import urllib.request\n",
    "import time\n",
    "from selenium.webdriver.common.by import By\n",
    "from bs4 import BeautifulStoneSoup\n",
    "from selenium.webdriver.chrome.service import Service as ChromeService"
   ]
  },
  {
   "cell_type": "code",
   "execution_count": 17,
   "id": "2d03d218",
   "metadata": {},
   "outputs": [
    {
     "name": "stderr",
     "output_type": "stream",
     "text": [
      "C:\\Users\\Daeun\\AppData\\Local\\Temp\\ipykernel_17696\\1936045350.py:1: DeprecationWarning: executable_path has been deprecated, please pass in a Service object\n",
      "  dr = webdriver.Chrome(executable_path='C:/Users/Daeun/Downloads/chromedriver_win32/chromedriver.exe')\n"
     ]
    }
   ],
   "source": [
    "dr = webdriver.Chrome(executable_path='C:/Users/Daeun/Downloads/chromedriver_win32/chromedriver.exe')\n",
    "dr.get('https://www.musinsa.com/mz/brandsnap?ordw=inc&p=1')"
   ]
  },
  {
   "cell_type": "code",
   "execution_count": 18,
   "id": "709e2ec8",
   "metadata": {},
   "outputs": [],
   "source": [
    "SCROLL_PAUSE_SEC = 1\n",
    "\n",
    "# 스크롤 높이 가져옴\n",
    "last_height = dr.execute_script(\"return document.body.scrollHeight\")\n",
    "\n",
    "while True:\n",
    "    # 끝까지 스크롤 다운\n",
    "    dr.execute_script(\"window.scrollTo(0, document.body.scrollHeight);\")\n",
    "\n",
    "    # 1초 대기\n",
    "    time.sleep(SCROLL_PAUSE_SEC)\n",
    "\n",
    "    # 스크롤 다운 후 스크롤 높이 다시 가져옴\n",
    "    new_height = dr.execute_script(\"return document.body.scrollHeight\")\n",
    "    if new_height == last_height:\n",
    "        break\n",
    "    last_height = new_height"
   ]
  },
  {
   "cell_type": "code",
   "execution_count": 19,
   "id": "e447e861",
   "metadata": {},
   "outputs": [],
   "source": [
    "cl = dr.find_element(By.CLASS_NAME,\"list-box.box\")\n",
    "items = cl.find_elements(By.CLASS_NAME,\"listItem\")\n",
    "images = []\n",
    "for i in range(5):\n",
    "    images.append(items[i].find_element(By.CSS_SELECTOR,'a > img'))"
   ]
  },
  {
   "cell_type": "code",
   "execution_count": 20,
   "id": "fd54e8f9",
   "metadata": {
    "scrolled": false
   },
   "outputs": [],
   "source": [
    "image_urls = []\n",
    "for img in images:\n",
    "    image_urls.append(img.get_attribute(\"src\"))\n",
    "\n",
    "for idx, image_url in enumerate(image_urls):\n",
    "    urllib.request.urlretrieve(image_url,\"img{}.png\".format(idx))   "
   ]
  },
  {
   "cell_type": "code",
   "execution_count": null,
   "id": "743b588a",
   "metadata": {},
   "outputs": [],
   "source": []
  },
  {
   "cell_type": "code",
   "execution_count": 21,
   "id": "36effe98",
   "metadata": {},
   "outputs": [
    {
     "data": {
      "text/plain": [
       "60"
      ]
     },
     "execution_count": 21,
     "metadata": {},
     "output_type": "execute_result"
    }
   ],
   "source": [
    "len(items)"
   ]
  },
  {
   "cell_type": "code",
   "execution_count": null,
   "id": "469c0724",
   "metadata": {},
   "outputs": [],
   "source": []
  }
 ],
 "metadata": {
  "kernelspec": {
   "display_name": "Python 3 (ipykernel)",
   "language": "python",
   "name": "python3"
  },
  "language_info": {
   "codemirror_mode": {
    "name": "ipython",
    "version": 3
   },
   "file_extension": ".py",
   "mimetype": "text/x-python",
   "name": "python",
   "nbconvert_exporter": "python",
   "pygments_lexer": "ipython3",
   "version": "3.9.12"
  }
 },
 "nbformat": 4,
 "nbformat_minor": 5
}
